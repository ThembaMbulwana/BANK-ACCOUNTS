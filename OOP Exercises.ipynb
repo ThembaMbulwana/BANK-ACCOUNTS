{
 "cells": [
  {
   "cell_type": "markdown",
   "metadata": {},
   "source": [
    "# Part 1: Bank Account"
   ]
  },
  {
   "cell_type": "markdown",
   "metadata": {},
   "source": [
    "A Bank Account has a balance, an interest rate and a monthly fee.\n",
    "\n",
    "For example if a person has an interest rate of 12% (which is totally unrealistic but make the numbers easier) and they have R1000 in their bank account then they will receive (R1000 x 12% / 12) after one month of saving. That means they earned R10 in interest. Now if their monthly fee on that account is R50 then their final balance after 1 month is R1000+R10-R50 = R960.\n",
    "\n",
    "Create a class called BankAccount. it should be constructed with the necessary parameters described above.\n",
    "add a function to your bank account class called finishMonth(js) or finish_month(python). This function should update the balance accordingly\n",
    "The balance of a bank account can also change if a deposit or withdrawal is made. Create a function called deposit and another one called withdraw"
   ]
  },
  {
   "cell_type": "code",
   "execution_count": 1,
   "metadata": {},
   "outputs": [],
   "source": [
    "class BankAccount():\n",
    "    \n",
    "    def __init__(self, balance=1000, interest =12, fee=50):\n",
    "        self.balance = balance\n",
    "        self.interest = interest\n",
    "        self.fee = fee\n",
    "    \n",
    "    def finish_month(self):\n",
    "        self.balance = self.balance + ((self.balance * self.interest / 100) / 12) - self.fee\n",
    "        return self.balance\n",
    "    \n",
    "    def deposit(self, amount):\n",
    "        self.balance += amount\n",
    "        return self.balance\n",
    "        \n",
    "    def withdraw(self, amount):\n",
    "        self.balance -= amount\n",
    "        return self.balance\n",
    "        "
   ]
  },
  {
   "cell_type": "markdown",
   "metadata": {},
   "source": [
    "##### Testing the above class"
   ]
  },
  {
   "cell_type": "code",
   "execution_count": 2,
   "metadata": {},
   "outputs": [],
   "source": [
    "capitec = BankAccount(1000)"
   ]
  },
  {
   "cell_type": "code",
   "execution_count": 3,
   "metadata": {},
   "outputs": [
    {
     "name": "stdout",
     "output_type": "stream",
     "text": [
      "960.0\n"
     ]
    }
   ],
   "source": [
    "# Calling the first method - Should return balance of 960\n",
    "print(capitec.finish_month())"
   ]
  },
  {
   "cell_type": "code",
   "execution_count": 4,
   "metadata": {},
   "outputs": [
    {
     "name": "stdout",
     "output_type": "stream",
     "text": [
      "919.6\n"
     ]
    }
   ],
   "source": [
    "# Calling the first method - Should return balance of 919.6\n",
    "print(capitec.finish_month())"
   ]
  },
  {
   "cell_type": "code",
   "execution_count": 5,
   "metadata": {},
   "outputs": [
    {
     "name": "stdout",
     "output_type": "stream",
     "text": [
      "1000.0\n"
     ]
    }
   ],
   "source": [
    "# Deposit 80.4 - Should return balance of 1000\n",
    "print(capitec.deposit(80.4))"
   ]
  },
  {
   "cell_type": "code",
   "execution_count": 6,
   "metadata": {},
   "outputs": [
    {
     "name": "stdout",
     "output_type": "stream",
     "text": [
      "980.0\n"
     ]
    }
   ],
   "source": [
    "# Withdraw 20 - Should return balance of 980\n",
    "print(capitec.withdraw(20))"
   ]
  },
  {
   "cell_type": "markdown",
   "metadata": {},
   "source": [
    "# Part 2: Bank"
   ]
  },
  {
   "cell_type": "markdown",
   "metadata": {},
   "source": [
    "Create a class called Bank. A Bank contains many bank accounts. A bank associates each bank account with a 10 digit number known as a bank account number. In OOP, this is called encapsulation.\n",
    "\n",
    "Create the following functions on your Bank class:\n",
    "   \n",
    "   \n",
    "Python:\n",
    "\n",
    "withdraw(bank_account_number,amount)\n",
    "\n",
    "deposit(bank_account_number,amount)\n",
    "\n",
    "transfer(from_bank_account_number,to_bank_account_number, amount)"
   ]
  },
  {
   "cell_type": "code",
   "execution_count": 7,
   "metadata": {},
   "outputs": [],
   "source": [
    "bank_db = [\n",
    "{\"Account Number\": 1234567890, \"Balance\" : 10},\n",
    "{\"Account Number\": 9987654321, \"Balance\": 1000 },\n",
    "{\"Account Number\": 2468101214, \"Balance\" : 100 }\n",
    "]"
   ]
  },
  {
   "cell_type": "code",
   "execution_count": 8,
   "metadata": {},
   "outputs": [],
   "source": [
    "class Bank():\n",
    "    def __init__(self, bank_account):\n",
    "        self.temp = bank_account\n",
    "        self.account_number = 0\n",
    "        self.check_account()\n",
    "        \n",
    "    def check_account(self):\n",
    "        for each_account in range(len(bank_db)):\n",
    "            if bank_db[each_account][\"Account Number\"] == self.temp:\n",
    "                self.account_number = self.temp\n",
    "                self.balance = bank_db[each_account][\"Balance\"]\n",
    "                return self.account_number\n",
    "            else:\n",
    "                self.account_number = self.temp\n",
    "                self.balance = 0\n",
    "    \n",
    "                \n",
    "    def get_account(self):\n",
    "        return self.account_number\n",
    "    \n",
    "    def get_balance(self):\n",
    "        return self.balance    \n",
    "    \n",
    "    def withdraw(self,bank_account_number,amount):\n",
    "        for each_acc in bank_db:\n",
    "            for key, value in each_acc.items():\n",
    "                if value == bank_account_number:\n",
    "                    each_acc[\"Balance\"] -= amount\n",
    "                    self.balance = each_acc\n",
    "                    return each_acc \n",
    "                \n",
    "    def deposit(self,bank_account_number,amount):\n",
    "        for each_acc in bank_db:\n",
    "            for key, value in each_acc.items():\n",
    "                if value == bank_account_number:\n",
    "                    each_acc[\"Balance\"] += amount\n",
    "                    self.balance = each_acc\n",
    "                    return each_acc \n",
    "                \n",
    "    def transfer(self,from_bank_account_number,to_bank_account_number, amount):\n",
    "        transaction = []\n",
    "        for each_acc in bank_db:\n",
    "            for key, value in each_acc.items():\n",
    "                if value == from_bank_account_number:\n",
    "                    each_acc[\"Balance\"] -= amount\n",
    "                    self.balance = each_acc\n",
    "                    transaction.append(each_acc)\n",
    "                if value == to_bank_account_number:\n",
    "                    each_acc[\"Balance\"] += amount\n",
    "                    self.balance = each_acc\n",
    "                    transaction.append(each_acc)\n",
    "        print(\"Transfer to: {}\\nTransfer from: {}\".format(transaction[0], transaction[1]))        "
   ]
  },
  {
   "cell_type": "markdown",
   "metadata": {},
   "source": [
    "##### Testing the above class"
   ]
  },
  {
   "cell_type": "code",
   "execution_count": 9,
   "metadata": {},
   "outputs": [],
   "source": [
    "account1 = Bank(2468101214)"
   ]
  },
  {
   "cell_type": "code",
   "execution_count": 10,
   "metadata": {},
   "outputs": [
    {
     "data": {
      "text/plain": [
       "2468101214"
      ]
     },
     "execution_count": 10,
     "metadata": {},
     "output_type": "execute_result"
    }
   ],
   "source": [
    "account1.get_account()"
   ]
  },
  {
   "cell_type": "code",
   "execution_count": 11,
   "metadata": {},
   "outputs": [
    {
     "data": {
      "text/plain": [
       "100"
      ]
     },
     "execution_count": 11,
     "metadata": {},
     "output_type": "execute_result"
    }
   ],
   "source": [
    "account1.get_balance()"
   ]
  },
  {
   "cell_type": "code",
   "execution_count": 12,
   "metadata": {},
   "outputs": [
    {
     "data": {
      "text/plain": [
       "{'Account Number': 2468101214, 'Balance': 80}"
      ]
     },
     "execution_count": 12,
     "metadata": {},
     "output_type": "execute_result"
    }
   ],
   "source": [
    "account1.withdraw(2468101214, 20)"
   ]
  },
  {
   "cell_type": "code",
   "execution_count": 13,
   "metadata": {},
   "outputs": [
    {
     "data": {
      "text/plain": [
       "{'Account Number': 2468101214, 'Balance': 200}"
      ]
     },
     "execution_count": 13,
     "metadata": {},
     "output_type": "execute_result"
    }
   ],
   "source": [
    "account1.deposit(2468101214, 120)"
   ]
  },
  {
   "cell_type": "code",
   "execution_count": 14,
   "metadata": {},
   "outputs": [
    {
     "data": {
      "text/plain": [
       "[{'Account Number': 1234567890, 'Balance': 10},\n",
       " {'Account Number': 9987654321, 'Balance': 1000},\n",
       " {'Account Number': 2468101214, 'Balance': 200}]"
      ]
     },
     "execution_count": 14,
     "metadata": {},
     "output_type": "execute_result"
    }
   ],
   "source": [
    "bank_db"
   ]
  },
  {
   "cell_type": "code",
   "execution_count": 15,
   "metadata": {},
   "outputs": [
    {
     "name": "stdout",
     "output_type": "stream",
     "text": [
      "Transfer to: {'Account Number': 1234567890, 'Balance': 500}\n",
      "Transfer from: {'Account Number': 9987654321, 'Balance': 510}\n"
     ]
    }
   ],
   "source": [
    "account1.transfer(9987654321,1234567890, 490)"
   ]
  },
  {
   "cell_type": "code",
   "execution_count": 16,
   "metadata": {},
   "outputs": [
    {
     "data": {
      "text/plain": [
       "[{'Account Number': 1234567890, 'Balance': 500},\n",
       " {'Account Number': 9987654321, 'Balance': 510},\n",
       " {'Account Number': 2468101214, 'Balance': 200}]"
      ]
     },
     "execution_count": 16,
     "metadata": {},
     "output_type": "execute_result"
    }
   ],
   "source": [
    "bank_db"
   ]
  },
  {
   "cell_type": "markdown",
   "metadata": {},
   "source": [
    "# Part 3: Customers\n",
    "\n",
    "This part is a little bit advanced. Stop and think before you write any code. Have a plan. Maybe even draw a picture of your plan\n",
    "\n",
    "Create a class called Customer. A customer can be associated with multiple bank accounts. Each customer also has a secret password. The customer should be able to update their password through use of a setPassword(js) or set_password(python) function.\n",
    "\n",
    "Whenever money is taken out of a bank account then the relevent customer’s secret password must be checked. You don’t need a special password when depositing money.\n",
    "\n",
    "Update your Bank functions to be like this:\n",
    "\n",
    "Python:\n",
    "\n",
    "withdraw(bank_account_number,amount,secret_password)\n",
    "deposit(bank_account_number,amount)\n",
    "transfer(from_bank_account_number,to_bank_account_number,amount,secret_password)\n",
    "If a password is required and the wrong one is provided then raise an error that says wrong password.\n",
    "\n",
    "For now just keep it simple. Just store Customer’s passwords in plain text in a variable on the appropriate object. Of course in real life, password managment and storage is kinda tricky. Here’s a nice article from Mozilla that will give you some background on how to do it the right way."
   ]
  },
  {
   "cell_type": "code",
   "execution_count": 17,
   "metadata": {},
   "outputs": [
    {
     "data": {
      "text/plain": [
       "[{'Account Number': 1234567890, 'Balance': 500, 'Password': 'pass0'},\n",
       " {'Account Number': 9987654321, 'Balance': 510, 'Password': 'pass1'},\n",
       " {'Account Number': 2468101214, 'Balance': 200, 'Password': 'pass2'}]"
      ]
     },
     "execution_count": 17,
     "metadata": {},
     "output_type": "execute_result"
    }
   ],
   "source": [
    "# Update database by adding passwords\n",
    "for index, each_acc in enumerate(bank_db):\n",
    "    bank_db[index][\"Password\"] = \"pass\" + str(index)  \n",
    "\n",
    "# Updated db\n",
    "bank_db    "
   ]
  },
  {
   "cell_type": "code",
   "execution_count": 18,
   "metadata": {},
   "outputs": [],
   "source": [
    "class Customer():\n",
    "    def __init__(self, bank_account):\n",
    "        pass\n",
    "\n",
    "    \n",
    "    def withdraw(self,bank_account_number,amount,secret_password):\n",
    "        for each_acc in bank_db:\n",
    "            for key, value in each_acc.items():\n",
    "                if value == bank_account_number:\n",
    "                    if each_acc[\"Password\"] == secret_password:\n",
    "                        each_acc[\"Balance\"] -= amount\n",
    "                        self.balance = each_acc\n",
    "                        print(each_acc)\n",
    "                    else:\n",
    "                        return \"Wrong Password\"\n",
    "                    \n",
    "    def deposit(bank_account_number,amount):\n",
    "        for each_acc in bank_db:\n",
    "            for key, value in each_acc.items():\n",
    "                if value == bank_account_number:\n",
    "                    each_acc[\"Balance\"] += amount\n",
    "                    self.balance = each_acc\n",
    "                    return each_acc\n",
    "\n",
    "    def transfer(self,from_bank_account_number,to_bank_account_number,amount,secret_password):            \n",
    "        transaction = []\n",
    "        for each_acc in bank_db:\n",
    "            for key, value in each_acc.items():\n",
    "                if value == from_bank_account_number:\n",
    "                    if each_acc[\"Password\"] == secret_password:\n",
    "                        each_acc[\"Balance\"] -= amount\n",
    "                        self.balance = each_acc\n",
    "                        transaction.append(each_acc)\n",
    "                if value == to_bank_account_number:\n",
    "                    each_acc[\"Balance\"] += amount\n",
    "                    self.balance = each_acc\n",
    "                    transaction.append(each_acc)\n",
    "        print(transaction)\n",
    "        \n",
    "    def set_password(self, account_number,new_password):\n",
    "        for each_acc in bank_db:\n",
    "            for key, value in each_acc.items():\n",
    "                if value == account_number:\n",
    "                    each_acc[\"Password\"] = new_password\n",
    "                    print(\"New password set:\\n\")\n",
    "                    return each_acc\n",
    "        \n",
    "        "
   ]
  },
  {
   "cell_type": "code",
   "execution_count": 19,
   "metadata": {},
   "outputs": [],
   "source": [
    "customer1 = Customer(1234567890)"
   ]
  },
  {
   "cell_type": "code",
   "execution_count": 20,
   "metadata": {},
   "outputs": [
    {
     "data": {
      "text/plain": [
       "'Wrong Password'"
      ]
     },
     "execution_count": 20,
     "metadata": {},
     "output_type": "execute_result"
    }
   ],
   "source": [
    "customer1.withdraw(1234567890, 100, \"pass\")"
   ]
  },
  {
   "cell_type": "code",
   "execution_count": 21,
   "metadata": {},
   "outputs": [
    {
     "name": "stdout",
     "output_type": "stream",
     "text": [
      "{'Account Number': 1234567890, 'Balance': 400, 'Password': 'pass0'}\n"
     ]
    }
   ],
   "source": [
    "customer1.withdraw(1234567890, 100, \"pass0\")"
   ]
  },
  {
   "cell_type": "code",
   "execution_count": 22,
   "metadata": {},
   "outputs": [
    {
     "data": {
      "text/plain": [
       "[{'Account Number': 1234567890, 'Balance': 400, 'Password': 'pass0'},\n",
       " {'Account Number': 9987654321, 'Balance': 510, 'Password': 'pass1'},\n",
       " {'Account Number': 2468101214, 'Balance': 200, 'Password': 'pass2'}]"
      ]
     },
     "execution_count": 22,
     "metadata": {},
     "output_type": "execute_result"
    }
   ],
   "source": [
    "bank_db"
   ]
  },
  {
   "cell_type": "code",
   "execution_count": 23,
   "metadata": {},
   "outputs": [
    {
     "name": "stdout",
     "output_type": "stream",
     "text": [
      "[{'Account Number': 1234567890, 'Balance': 410, 'Password': 'pass0'}, {'Account Number': 9987654321, 'Balance': 500, 'Password': 'pass1'}]\n"
     ]
    }
   ],
   "source": [
    "customer1.transfer(9987654321,1234567890, 10, \"pass1\")"
   ]
  },
  {
   "cell_type": "code",
   "execution_count": 24,
   "metadata": {},
   "outputs": [
    {
     "data": {
      "text/plain": [
       "[{'Account Number': 1234567890, 'Balance': 410, 'Password': 'pass0'},\n",
       " {'Account Number': 9987654321, 'Balance': 500, 'Password': 'pass1'},\n",
       " {'Account Number': 2468101214, 'Balance': 200, 'Password': 'pass2'}]"
      ]
     },
     "execution_count": 24,
     "metadata": {},
     "output_type": "execute_result"
    }
   ],
   "source": [
    "bank_db"
   ]
  },
  {
   "cell_type": "code",
   "execution_count": 25,
   "metadata": {},
   "outputs": [
    {
     "name": "stdout",
     "output_type": "stream",
     "text": [
      "New password set:\n",
      "\n"
     ]
    },
    {
     "data": {
      "text/plain": [
       "{'Account Number': 9987654321, 'Balance': 500, 'Password': 'NewSecurePassword'}"
      ]
     },
     "execution_count": 25,
     "metadata": {},
     "output_type": "execute_result"
    }
   ],
   "source": [
    "customer1.set_password(9987654321, \"NewSecurePassword\")"
   ]
  },
  {
   "cell_type": "code",
   "execution_count": 26,
   "metadata": {},
   "outputs": [
    {
     "data": {
      "text/plain": [
       "[{'Account Number': 1234567890, 'Balance': 410, 'Password': 'pass0'},\n",
       " {'Account Number': 9987654321,\n",
       "  'Balance': 500,\n",
       "  'Password': 'NewSecurePassword'},\n",
       " {'Account Number': 2468101214, 'Balance': 200, 'Password': 'pass2'}]"
      ]
     },
     "execution_count": 26,
     "metadata": {},
     "output_type": "execute_result"
    }
   ],
   "source": [
    "bank_db"
   ]
  }
 ],
 "metadata": {
  "kernelspec": {
   "display_name": "Python 3",
   "language": "python",
   "name": "python3"
  },
  "language_info": {
   "codemirror_mode": {
    "name": "ipython",
    "version": 3
   },
   "file_extension": ".py",
   "mimetype": "text/x-python",
   "name": "python",
   "nbconvert_exporter": "python",
   "pygments_lexer": "ipython3",
   "version": "3.7.3"
  }
 },
 "nbformat": 4,
 "nbformat_minor": 2
}
